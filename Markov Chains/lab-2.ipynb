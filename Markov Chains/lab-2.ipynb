{
 "cells": [
  {
   "cell_type": "markdown",
   "metadata": {
    "deletable": true,
    "editable": true
   },
   "source": [
    "# Learning and Decision Making"
   ]
  },
  {
   "cell_type": "markdown",
   "metadata": {
    "deletable": true,
    "editable": true
   },
   "source": [
    "## Laboratory 2: Markov chains\n",
    "\n",
    "In the end of the lab, you should submit all code/answers written in the tasks marked as \"Activity n. XXX\", together with the corresponding outputs and any replies to specific questions posed to the e-mail <adi.tecnico@gmail.com>. Make sure that the subject is of the form [&lt;group n.&gt;] LAB &lt;lab n.&gt;.\n",
    "\n",
    "### 1. Modeling\n",
    "\n",
    "Consider once again the simplified Monopoly game described in the Homework and for which you wrote a Markov chain model:\n",
    "\n",
    "<img src=\"monopoly.png\" width=\"300px\">\n",
    "\n",
    "Recall that your chain should describe a single player, where: \n",
    "\n",
    "* The player rolls a single die in each play; \n",
    "* The jail does not prevent the player from continuing to play. In other words, when landing on the “GO TO JAIL” cell, the player jumps back to the “JAIL” cell, but resumes play immediately."
   ]
  },
  {
   "cell_type": "markdown",
   "metadata": {
    "deletable": true,
    "editable": true
   },
   "source": [
    "---\n",
    "\n",
    "#### Activity 1.        \n",
    "\n",
    "Implement your Markov chain model in Python. In particular,\n",
    "\n",
    "* Create a list with all the states;\n",
    "* Define a `numpy` array with the corresponding transition probabilities.\n",
    "\n",
    "The order for the states used in the transition probability matrix should match that in the list of states. \n",
    "\n",
    "**Note 1**: Don't forget to import `numpy`.\n",
    "\n",
    "**Note 2**: Make sure to print the result in the end.\n",
    "\n",
    "---"
   ]
  },
  {
   "cell_type": "code",
   "execution_count": 1,
   "metadata": {
    "collapsed": false,
    "deletable": true,
    "editable": true
   },
   "outputs": [
    {
     "name": "stdout",
     "output_type": "stream",
     "text": [
      "['Go', 'Vermont Avenue', 'Jail', 'Virginia Avenue', 'Free Parking', 'Marvin Gardens', 'Go To Jail', 'Pensylvania Avenue']\n",
      "[[ 0.          0.16666667  0.16666667  0.16666667  0.16666667  0.16666667\n",
      "   0.16666667  0.        ]\n",
      " [ 0.          0.          0.16666667  0.16666667  0.16666667  0.16666667\n",
      "   0.16666667  0.16666667]\n",
      " [ 0.16666667  0.          0.          0.16666667  0.16666667  0.16666667\n",
      "   0.16666667  0.16666667]\n",
      " [ 0.16666667  0.16666667  0.          0.          0.16666667  0.16666667\n",
      "   0.16666667  0.16666667]\n",
      " [ 0.16666667  0.16666667  0.16666667  0.          0.          0.16666667\n",
      "   0.16666667  0.16666667]\n",
      " [ 0.16666667  0.16666667  0.16666667  0.16666667  0.          0.\n",
      "   0.16666667  0.16666667]\n",
      " [ 0.          0.          1.          0.          0.          0.          0.\n",
      "   0.        ]\n",
      " [ 0.16666667  0.16666667  0.16666667  0.16666667  0.16666667  0.16666667\n",
      "   0.          0.        ]]\n"
     ]
    }
   ],
   "source": [
    "import numpy as np\n",
    "states = [\"Go\", \"Vermont Avenue\", \"Jail\", \"Virginia Avenue\", \"Free Parking\",\\\n",
    "          \"Marvin Gardens\", \"Go To Jail\", \"Pensylvania Avenue\"]\n",
    "mc = np.array([[0, 1/6, 1/6, 1/6, 1/6, 1/6, 1/6, 0],\n",
    "               [0, 0, 1/6, 1/6, 1/6, 1/6, 1/6, 1/6],\n",
    "               [1/6, 0, 0, 1/6, 1/6, 1/6, 1/6, 1/6],\n",
    "               [1/6, 1/6, 0, 0, 1/6, 1/6, 1/6, 1/6],\n",
    "               [1/6, 1/6, 1/6, 0, 0, 1/6, 1/6, 1/6],\n",
    "               [1/6, 1/6, 1/6, 1/6, 0, 0, 1/6, 1/6],\n",
    "               [0, 0, 1, 0, 0, 0, 0, 0],\n",
    "               [1/6, 1/6, 1/6, 1/6, 1/6, 1/6, 0, 0]])\n",
    "print(states)\n",
    "print(mc)"
   ]
  },
  {
   "cell_type": "markdown",
   "metadata": {
    "deletable": true,
    "editable": true
   },
   "source": [
    "---\n",
    "\n",
    "#### Activity 2.\n",
    "\n",
    "Compute the probability of the following trajectories:\n",
    "\n",
    "* \"COLLECT \\$200\" - \"VERMONT AVENUE\" - \"GO TO JAIL\" - \"JAIL\"\n",
    "* \"COLLECT \\$200\" - \"GO TO JAIL\" - \"JAIL\" - \"COLLECT \\$200\"\n",
    "* \"COLLECT \\$200\" - \"PENNSYLVANIA AVENUE\" - \"COLLECT \\$200\"\n",
    "\n",
    "**Note:** Make sure to print the result in the end.\n",
    "\n",
    "---"
   ]
  },
  {
   "cell_type": "code",
   "execution_count": 2,
   "metadata": {
    "collapsed": false,
    "deletable": true,
    "editable": true
   },
   "outputs": [
    {
     "name": "stdout",
     "output_type": "stream",
     "text": [
      "The probability of - COLLECT $200 - VERMONT AVENUE - GO TO JAIL - JAIL is: 0.0277777777778\n",
      "The probability of - COLLECT $200 - GO TO JAIL - JAIL - COLLECT $200 is: 0.0277777777778\n",
      "The probability of - COLLECT $200 - PENNSYLVANIA AVENUE - COLLECT $200 is: 0.0\n"
     ]
    }
   ],
   "source": [
    "p1 = mc[0, 1] * mc[1, 6] * mc[6, 2]\n",
    "print(\"The probability of - COLLECT $200 - VERMONT AVENUE - GO TO JAIL - JAIL is:\", p1)\n",
    "\n",
    "p2 = mc[0, 6] * mc[6, 2] * mc[2, 0]\n",
    "print(\"The probability of - COLLECT $200 - GO TO JAIL - JAIL - COLLECT $200 is:\", p2)\n",
    "\n",
    "p3 = mc[0, 7] * mc[7, 0]\n",
    "print(\"The probability of - COLLECT $200 - PENNSYLVANIA AVENUE - COLLECT $200 is:\", p3)\n",
    "\n"
   ]
  },
  {
   "cell_type": "markdown",
   "metadata": {
    "deletable": true,
    "editable": true
   },
   "source": [
    "### 2. Stability"
   ]
  },
  {
   "cell_type": "markdown",
   "metadata": {
    "deletable": true,
    "editable": true
   },
   "source": [
    "---\n",
    "\n",
    "#### Activity 3.\n",
    "\n",
    "Justify whether the chain implemented in Activity #1 is:\n",
    "\n",
    "* Irreducible\n",
    "* Aperiodic\n",
    "* Ergodic\n",
    "\n",
    "---"
   ]
  },
  {
   "cell_type": "markdown",
   "metadata": {
    "deletable": true,
    "editable": true
   },
   "source": [
    "\n"
   ]
  },
  {
   "cell_type": "code",
   "execution_count": 3,
   "metadata": {
    "collapsed": false,
    "deletable": true,
    "editable": true
   },
   "outputs": [
    {
     "name": "stdout",
     "output_type": "stream",
     "text": [
      "Irredutível: a cadeia é irredutível visto que qualquer estado y pode ser atingido a partir de qualquer outro estado x\n",
      "Aperiódica: a cadeia é aperiódica porque o máximo divisor comum de todos os estados é 1. Como todos os estados são aperiódicos, então a cadeia tmabém é aperiótica\n",
      "Ergódica: a cadeira é irredutível, aperiódica e tem uma distribuição estacionária, como foi comprovado no exercício seguinte\n",
      "[[ 0.11111111  0.08796296  0.22685185  0.11574074  0.11111111  0.125\n",
      "   0.12037037  0.10185185]\n",
      " [ 0.10648148  0.08796296  0.2037037   0.12037037  0.11574074  0.12962963\n",
      "   0.12962963  0.10648148]\n",
      " [ 0.10648148  0.0787037   0.19907407  0.12037037  0.11574074  0.12962963\n",
      "   0.13425926  0.11574074]\n",
      " [ 0.11574074  0.0787037   0.18981481  0.11574074  0.11574074  0.12962963\n",
      "   0.13425926  0.12037037]\n",
      " [ 0.12037037  0.08796296  0.18981481  0.10648148  0.11111111  0.12962963\n",
      "   0.13425926  0.12037037]\n",
      " [ 0.12037037  0.09259259  0.19907407  0.10648148  0.10185185  0.125\n",
      "   0.13425926  0.12037037]\n",
      " [ 0.11111111  0.13888889  0.27777778  0.08333333  0.08333333  0.11111111\n",
      "   0.11111111  0.08333333]\n",
      " [ 0.10185185  0.10185185  0.26851852  0.10185185  0.09722222  0.11574074\n",
      "   0.11574074  0.09722222]]\n",
      "Irredutível: verifica-se que na matriz acima, para o tempo t=3 a matriz não possui qualquer probabilidade 0, ou seja, todos os estados são atingíveis por qualquer estado\n",
      "Aperiódica: Por exemplo, o máximo divisor comum entre os estados 5 e 6 é 1\n"
     ]
    }
   ],
   "source": [
    "print(\"Irredutível: a cadeia é irredutível visto que qualquer estado y pode ser atingido a partir de\"\\\n",
    "      \" qualquer outro estado x\\n\"\\\n",
    "      \"Aperiódica: a cadeia é aperiódica porque o máximo divisor comum de todos os estados é 1.\"\\\n",
    "      \" Como todos os estados são aperiódicos, então a cadeia tmabém é aperiótica\\n\"\\\n",
    "      \"Ergódica: a cadeira é irredutível, aperiódica e tem uma distribuição estacionária, como foi\"\\\n",
    "      \" comprovado no exercício seguinte\")\n",
    "\n",
    "mc2 = np.dot(mc, mc)\n",
    "mc3 = np.dot(mc2, mc)\n",
    "print(mc3)\n",
    "print(\"Irredutível: verifica-se que na matriz acima, para o tempo t=3 a matriz não possui qualquer probabilidade 0, ou seja, \"\\\n",
    "      \"todos os estados são atingíveis por qualquer estado\")\n",
    "print(\"Aperiódica: Por exemplo, o máximo divisor comum entre os estados 5 e 6 é 1\")\n",
    "\n",
    "\n"
   ]
  },
  {
   "cell_type": "markdown",
   "metadata": {
    "deletable": true,
    "editable": true
   },
   "source": [
    "---\n",
    "\n",
    "#### Activity 4\n",
    "\n",
    "Compute the stationary distribution for the chain.\n",
    "\n",
    "**Note:** The stationary distribution is a *left* eigenvector of the transition probability matrix associated to the eigenvalue 1. As such, you may find useful the numpy function `numpy.linalg.eig`. Also, recall that the stationary distribution is *a distribution*.\n",
    "\n",
    "---"
   ]
  },
  {
   "cell_type": "code",
   "execution_count": 4,
   "metadata": {
    "collapsed": false,
    "deletable": true,
    "editable": true
   },
   "outputs": [
    {
     "name": "stdout",
     "output_type": "stream",
     "text": [
      "[ 0.11131135  0.09350154  0.21817025  0.10940316  0.1068589   0.12466872\n",
      "  0.12731899  0.10876709]\n",
      "[ 0.11131135  0.09350154  0.21817025  0.10940316  0.1068589   0.12466872\n",
      "  0.12731899  0.10876709]\n",
      "Confirma-se que para a matriz de transição no isntante t = 1, a distribuição mantém-se igual. Deste modo conclui-se que u é estacionário.\n"
     ]
    }
   ],
   "source": [
    "w, v = np.linalg.eig(mc.T)\n",
    "e1 = v[:, 0]\n",
    "e1r = np.real(e1)\n",
    "e1n = e1r/np.sum(e1r)\n",
    "print(e1n)\n",
    "\n",
    "mc2 = np.dot(mc, mc)\n",
    "w, v = np.linalg.eig(mc2.T)\n",
    "e2 = v[:, 0]\n",
    "e2r = np.real(e2)\n",
    "e2n = e1r/np.sum(e2r)\n",
    "print(e2n)\n",
    "\n",
    "print(\"Confirma-se que para a matriz de transição no isntante t = 1, a distribuição mantém-se igual.\"\\\n",
    "      \" Deste modo conclui-se que u é estacionário.\")"
   ]
  },
  {
   "cell_type": "markdown",
   "metadata": {
    "deletable": true,
    "editable": true
   },
   "source": [
    "### 3. Simulation\n",
    "\n",
    "You are now going to *simulate* the Markov chain that you defined in Question #1."
   ]
  },
  {
   "cell_type": "markdown",
   "metadata": {
    "deletable": true,
    "editable": true
   },
   "source": [
    "---\n",
    "\n",
    "#### Activity 5\n",
    "\n",
    "Generate a 10,000-step long trajectory of the chain defined in Activity #1. \n",
    "\n",
    "---"
   ]
  },
  {
   "cell_type": "code",
   "execution_count": 11,
   "metadata": {
    "collapsed": false,
    "deletable": true,
    "editable": true
   },
   "outputs": [
    {
     "name": "stdout",
     "output_type": "stream",
     "text": [
      "[[ 0.          0.16666667  0.16666667  0.16666667  0.16666667  0.16666667\n",
      "   0.16666667  0.        ]\n",
      " [ 0.          0.          0.16666667  0.16666667  0.16666667  0.16666667\n",
      "   0.16666667  0.16666667]\n",
      " [ 0.16666667  0.          0.          0.16666667  0.16666667  0.16666667\n",
      "   0.16666667  0.16666667]\n",
      " [ 0.16666667  0.16666667  0.          0.          0.16666667  0.16666667\n",
      "   0.16666667  0.16666667]\n",
      " [ 0.16666667  0.16666667  0.16666667  0.          0.          0.16666667\n",
      "   0.16666667  0.16666667]\n",
      " [ 0.16666667  0.16666667  0.16666667  0.16666667  0.          0.\n",
      "   0.16666667  0.16666667]\n",
      " [ 0.          0.          1.          0.          0.          0.          0.\n",
      "   0.        ]\n",
      " [ 0.16666667  0.16666667  0.16666667  0.16666667  0.16666667  0.16666667\n",
      "   0.          0.        ]]\n"
     ]
    }
   ],
   "source": [
    "from numpy import random as rand\n",
    "step = 1\n",
    "trajectory = []\n",
    "states = np.arange(0, 8)\n",
    "state = 0\n",
    "trajectory.append(state)\n",
    "while step < 10000:\n",
    "    nextstate = rand.choice(states, 1, p = mc[state])\n",
    "    state = nextstate[0]\n",
    "    trajectory.append(state)\n",
    "    step += 1\n",
    "print(mc)"
   ]
  },
  {
   "cell_type": "markdown",
   "metadata": {
    "deletable": true,
    "editable": true
   },
   "source": [
    "---\n",
    "\n",
    "#### Activity 6\n",
    "\n",
    "Draw a histogram of the trajectory generated in Activity #5. Make sure that the histogram has one bin for each state. Compare the relative frequencies with the result of Activity #4.\n",
    "\n",
    "**Note**: Don't forget to load `matplotlib`.\n",
    "\n",
    "---"
   ]
  },
  {
   "cell_type": "code",
   "execution_count": 12,
   "metadata": {
    "collapsed": false,
    "deletable": true,
    "editable": true
   },
   "outputs": [
    {
     "data": {
      "image/png": "[encoded data removed]",
      "text/plain": [
       "<matplotlib.figure.Figure at 0x7f7809ff9a90>"
      ]
     },
     "metadata": {},
     "output_type": "display_data"
    },
    {
     "name": "stdout",
     "output_type": "stream",
     "text": [
      "As barras correspondem aos valores experimentais e a linha \"best fit\" a vermelho corresponde aos valores reais. Verifica-se que os valores coincidem.\n"
     ]
    }
   ],
   "source": [
    "import matplotlib.pyplot as plt\n",
    "from scipy import stats\n",
    "\n",
    "ytotal = stats.relfreq(trajectory, numbins = 8)\n",
    "y = ytotal.frequency\n",
    "\n",
    "#TODO bars - obtained values\n",
    "plt.hist(trajectory, bins = range(9), normed = True, facecolor = 'green', align = 'left', rwidth = 0.35, alpha = 0.75)\n",
    "\n",
    "#line - estimated values\n",
    "l = plt.plot(e1n, 'or', linewidth = 1.5)\n",
    "\n",
    "plt.title(\"Relative Frequency of all States\")\n",
    "plt.xlabel(\"State\")\n",
    "plt.ylabel(\"Frequency\")\n",
    "plt.grid(True)\n",
    "plt.show()\n",
    "print(\"As barras correspondem aos valores experimentais e a linha \\\"best fit\\\" a vermelho corresponde aos valores \\\n",
    "reais. Verifica-se que os valores coincidem.\")"
   ]
  },
  {
   "cell_type": "markdown",
   "metadata": {
    "deletable": true,
    "editable": true
   },
   "source": [
    "The empirical distribution matches the theoretical distribution."
   ]
  }
 ],
 "metadata": {
  "kernelspec": {
   "display_name": "Python 3",
   "language": "python",
   "name": "python3"
  },
  "language_info": {
   "codemirror_mode": {
    "name": "ipython",
    "version": 3
   },
   "file_extension": ".py",
   "mimetype": "text/x-python",
   "name": "python",
   "nbconvert_exporter": "python",
   "pygments_lexer": "ipython3",
   "version": "3.5.2"
  }
 },
 "nbformat": 4,
 "nbformat_minor": 0
}
