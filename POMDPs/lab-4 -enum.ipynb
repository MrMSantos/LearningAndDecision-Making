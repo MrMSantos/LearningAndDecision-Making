{
 "cells": [
  {
   "cell_type": "markdown",
   "metadata": {
    "deletable": true,
    "editable": true
   },
   "source": [
    "# Learning and Decision Making"
   ]
  },
  {
   "cell_type": "markdown",
   "metadata": {
    "deletable": true,
    "editable": true
   },
   "source": [
    "## Laboratory 4: Partially observable Markov decision problems\n",
    "\n",
    "In the end of the lab, you should submit all code/answers written in the tasks marked as \"Activity n. XXX\", together with the corresponding outputs and any replies to specific questions posed to the e-mail <adi.tecnico@gmail.com>. Make sure that the subject is of the form [&lt;group n.&gt;] LAB &lt;lab n.&gt;."
   ]
  },
  {
   "cell_type": "markdown",
   "metadata": {
    "deletable": true,
    "editable": true
   },
   "source": [
    "### 1. Modeling\n",
    "\n",
    "Consider once again the guessing game domain described in the Homework and which you described as a POMDP.\n",
    "\n",
    "Recall that:\n",
    "\n",
    "* The opponent can hold one of two cards in hand: an Ace of Clubs (A&clubs;) and an Ace of Diamonds (A&diams;). The agent must guess which card the opponent is holding. \n",
    "\n",
    "* For every right answer, the agent wins 1EUR, and every wrong answer costs the agent 1EUR. \n",
    "\n",
    "* The agent can also try to _peek_. \n",
    "\n",
    "* When the agent peeks, it sees the right card with a probability of 0.9 and the wrong card with probability 0.1.\n",
    "\n",
    "* The game restarts whenever the agent makes a guess.\n",
    "\n",
    "Consider throughout that $\\gamma=0.9$."
   ]
  },
  {
   "cell_type": "markdown",
   "metadata": {
    "deletable": true,
    "editable": true
   },
   "source": [
    "---\n",
    "\n",
    "#### Activity 1.        \n",
    "\n",
    "Implement your POMDP in Python. In particular,\n",
    "\n",
    "* Create a list with all the states;\n",
    "* Create a list with all the actions;\n",
    "* Create a list with all the observations\n",
    "* For each action, define a `numpy` array with the corresponding transition probabilities;\n",
    "* For each action, define a `numpy` array with the corresponding observation probabilities;\n",
    "* Define a `numpy`array with the cost that you defined in your homework.\n",
    "\n",
    "The order for the states and actions used in the transition probability and cost matrices should match that in the lists of states and actions. \n",
    "\n",
    "**Note**: Don't forget to import `numpy`.\n",
    "\n",
    "---"
   ]
  },
  {
   "cell_type": "code",
   "execution_count": 2,
   "metadata": {
    "collapsed": false,
    "deletable": true,
    "editable": true,
    "scrolled": false
   },
   "outputs": [],
   "source": [
    "import numpy as np\n",
    "\n",
    "#states\n",
    "X = ['C', 'D']\n",
    "#actions\n",
    "A = ['choose C', 'choose D', 'peek']\n",
    "#observations\n",
    "Z = ['sees C', 'sees D', 'sees none']\n",
    "#discounted cost\n",
    "gamma = 0.9\n",
    "\n",
    "#transition probabilities\n",
    "Pclubs = Pdiamonds = np.array([[0.5, 0.5],\\\n",
    "                               [0.5, 0.5]])\n",
    "Ppeek = np.array([[1, 0],\\\n",
    "                  [0, 1]])\n",
    "\n",
    "#observation probabilities\n",
    "Oclubs = Odiamonds = np.array([[0, 0, 1],\\\n",
    "                               [0, 0, 1]])\n",
    "Opeek = np.array([[0.9, 0.1, 0],\\\n",
    "                  [0.1, 0.9, 0]])\n",
    "\n",
    "#cost function\n",
    "C = np.array([[0, 1, 0.5],\\\n",
    "              [1, 0, 0.5]])"
   ]
  },
  {
   "cell_type": "markdown",
   "metadata": {
    "deletable": true,
    "editable": true
   },
   "source": [
    "### 2. Sampling\n",
    "\n",
    "You are now going to sample random trajectories of your POMDP and observe the impact it has on the corresponding belief."
   ]
  },
  {
   "cell_type": "markdown",
   "metadata": {
    "deletable": true,
    "editable": true,
    "raw_mimetype": "text/latex"
   },
   "source": [
    "---\n",
    "\n",
    "#### Activity 2.\n",
    "\n",
    "Generate a random POMDP trajectory using a uniformly random policy. In particular, from a random initial state $x_0$ generate:\n",
    "\n",
    "1. A sequence of 10,000 states by selecting the actions uniformly at random;\n",
    "2. The corresponding sequence of 10,000 actions;\n",
    "3. The corresponding sequence of 10,000 observations.\n",
    "\n",
    "---"
   ]
  },
  {
   "cell_type": "code",
   "execution_count": 3,
   "metadata": {
    "collapsed": false,
    "deletable": true,
    "editable": true
   },
   "outputs": [],
   "source": [
    "from numpy import random as rand\n",
    "\n",
    "#mapping strings to matrixes\n",
    "prob_action = {'choose C': Pclubs, 'choose D': Pdiamonds, 'peek': Ppeek}\n",
    "prob_obs = {'choose C': Oclubs, 'choose D': Odiamonds, 'peek': Opeek}\n",
    "#mapping string to matrixes rows\n",
    "obs_line = {'sees C': 0, 'sees D': 1, 'sees none': 2}\n",
    "state_line = {'C': 0, 'D': 1}\n",
    "\n",
    "step = 0\n",
    "states = []\n",
    "actions = []\n",
    "obs = []\n",
    "\n",
    "#first state random\n",
    "state = rand.choice(X)\n",
    "states.append(state)\n",
    "\n",
    "while step < 10000:\n",
    "    #policy of choosing a random action\n",
    "    action = rand.choice(A)\n",
    "    actions.append(action)\n",
    "    \n",
    "    #calculate the correspondent observation\n",
    "    observation = rand.choice(Z, 1, p = prob_obs[action][state_line[state]])[0]\n",
    "    obs.append(observation)\n",
    "    \n",
    "    #calculate the next state\n",
    "    state = rand.choice(X, 1, p = prob_action[action][state_line[state]])[0]\n",
    "    states.append(state)\n",
    "    \n",
    "    step += 1\n",
    "\n",
    "#delete the last state (not necessary)\n",
    "del states[-1]\n",
    "\n",
    "#print(states)\n",
    "#print(actions)\n",
    "#print(obs)"
   ]
  },
  {
   "cell_type": "markdown",
   "metadata": {
    "deletable": true,
    "editable": true
   },
   "source": [
    "---\n",
    "\n",
    "#### Activity 3.\n",
    "\n",
    "For the POMDP trajectory generated in Activity 2, compute the corresponding sequence of beliefs, assuming that the initial belief is $\\mathbf{b}_0=[0.5, 0.5]$. Report the resulting beliefs, ignoring duplicate beliefs or beliefs whose distance is smaller than $10^{-4}$.\n",
    "\n",
    "**Note 1:** You may want to define a function `belief_update` that receives a belief, an action and an observation and returns the updated belief.\n",
    "\n",
    "**Note 2:** To compute the distance between vectors, you may find useful `numpy`'s function `linalg.norm`.\n",
    "\n",
    "\n",
    "---"
   ]
  },
  {
   "cell_type": "code",
   "execution_count": 4,
   "metadata": {
    "collapsed": false,
    "deletable": true,
    "editable": true,
    "scrolled": false
   },
   "outputs": [
    {
     "name": "stdout",
     "output_type": "stream",
     "text": [
      "[array([ 0.5,  0.5]), array([ 0.9,  0.1]), array([ 0.98780488,  0.01219512]), array([ 0.1,  0.9]), array([ 0.01219512,  0.98780488]), array([ 0.00136986,  0.99863014]), array([  1.52392563e-04,   9.99847607e-01]), array([ 0.99863014,  0.00136986]), array([  9.99847607e-01,   1.52392563e-04]), array([  1.69348010e-05,   9.99983065e-01]), array([  9.99983065e-01,   1.69348010e-05])]\n"
     ]
    }
   ],
   "source": [
    "from numpy import linalg as l\n",
    "\n",
    "belief = np.array([0.5, 0.5])\n",
    "belief_list = []\n",
    "belief_list.append(belief)\n",
    "norms = []\n",
    "norms.append(l.norm(belief))\n",
    "step = 0\n",
    "\n",
    "def belief_update(belief, action, observation):\n",
    "    #get the transition probability\n",
    "    A = prob_action[action]\n",
    "    #get the diagonal of the observation probability\n",
    "    O = np.diag(prob_obs[action][:, obs_line[observation]])\n",
    "    #apply the formula to calculate the updated belief\n",
    "    alpha0 = belief\n",
    "    alpha1 = np.dot(alpha0, A)\n",
    "    new_belief = np.dot(alpha1, O)\n",
    "    \n",
    "    return new_belief/np.sum(new_belief)\n",
    "\n",
    "while step < 10000:\n",
    "    #calculate the next belief\n",
    "    new_belief = belief_update(belief, actions[step], obs[step])\n",
    "    #verify if it's a different belief\n",
    "    if all(abs(l.norm(new_belief - b)) > 1e-4 for b in belief_list):\n",
    "        belief_list.append(new_belief)\n",
    "    belief = new_belief\n",
    "    step += 1\n",
    "    \n",
    "print(belief_list)"
   ]
  },
  {
   "cell_type": "markdown",
   "metadata": {
    "deletable": true,
    "editable": true
   },
   "source": [
    "### 3. Solution methods\n",
    "\n",
    "In this section you are going to compare different non-exact solution methods."
   ]
  },
  {
   "cell_type": "markdown",
   "metadata": {
    "deletable": true,
    "editable": true
   },
   "source": [
    "---\n",
    "\n",
    "#### Activity 4\n",
    "\n",
    "Compute the solution for the underlying MDP and report the corresponding optimal policy and optimal cost-to-go. \n",
    "\n",
    "** Note:** You may reuse code from previous labs.\n",
    "\n",
    "---"
   ]
  },
  {
   "cell_type": "code",
   "execution_count": 5,
   "metadata": {
    "collapsed": false,
    "deletable": true,
    "editable": true,
    "scrolled": false
   },
   "outputs": [
    {
     "name": "stdout",
     "output_type": "stream",
     "text": [
      "optimal cost-to-go:\n",
      "[[ 0.]\n",
      " [ 0.]]\n",
      "optimal policy:\n",
      "[[ 1.  0.  0.]\n",
      " [ 0.  1.  0.]]\n"
     ]
    }
   ],
   "source": [
    "#Value Iteration to calculate the optimal cost-to-go\n",
    "J = np.zeros((2,1))\n",
    "err = 1\n",
    "i = 0\n",
    "\n",
    "chooseC = np.reshape(C[:, 0], (2, 1))\n",
    "chooseD = np.reshape(C[:, 1], (2, 1))\n",
    "peek = np.reshape(C[:, 2], (2, 1))\n",
    "\n",
    "while err > 1e-8:\n",
    "    Qc = chooseC + gamma * Pclubs.dot(J)\n",
    "    Qd = chooseD + gamma * Pdiamonds.dot(J)\n",
    "    Qp = peek + gamma * Ppeek.dot(J)\n",
    "    \n",
    "    Jnew = np.min((Qc, Qd, Qp), axis = 0)\n",
    "    err = np.linalg.norm(Jnew - J)\n",
    "    i += 1\n",
    "    J = Jnew\n",
    "    \n",
    "print(\"optimal cost-to-go:\")\n",
    "print(J)\n",
    "\n",
    "#Policy Iteration to calculate the optimal policy\n",
    "pi = np.ones((2,1)) / 2\n",
    "quit = False\n",
    "i = 0\n",
    "\n",
    "while not quit:\n",
    "    pinew = np.zeros((2,3))\n",
    "    pinew[:, 0, None] = np.isclose(Qc, np.min((Qc, Qd, Qp), axis=0), atol=1e-8, rtol = 1e-8).astype(int)\n",
    "    pinew[:, 1, None] = np.isclose(Qd, np.min((Qc, Qd, Qp), axis=0), atol=1e-8, rtol = 1e-8).astype(int)\n",
    "        \n",
    "    pinew = pinew / np.sum(pinew, axis = 1, keepdims = True)\n",
    "    \n",
    "    quit = (pi == pinew).all()\n",
    "    pi = pinew\n",
    "    i += 1\n",
    "\n",
    "print(\"optimal policy:\")\n",
    "print(pi)"
   ]
  },
  {
   "cell_type": "markdown",
   "metadata": {
    "deletable": true,
    "editable": true
   },
   "source": [
    "---\n",
    "\n",
    "#### Activity 5\n",
    "\n",
    "For each of the beliefs computed in Activity 3, compute the action prescribed by:\n",
    "\n",
    "* The MLS heuristic;\n",
    "* The AV heuristic;\n",
    "* The Q-MDP heuristic.\n",
    "\n",
    "---"
   ]
  },
  {
   "cell_type": "code",
   "execution_count": 6,
   "metadata": {
    "collapsed": false,
    "deletable": true,
    "editable": true,
    "scrolled": false
   },
   "outputs": [
    {
     "name": "stdout",
     "output_type": "stream",
     "text": [
      "MLS heuristic: ['choose C', 'choose C', 'choose C', 'choose D', 'choose D', 'choose D', 'choose D', 'choose C', 'choose C', 'choose D', 'choose C']\n",
      "AV heuristic: ['choose C', 'choose C', 'choose C', 'choose D', 'choose D', 'choose D', 'choose D', 'choose C', 'choose C', 'choose D', 'choose C']\n",
      "Q-MDP heuristic: ['choose C', 'choose C', 'choose C', 'choose D', 'choose D', 'choose D', 'choose D', 'choose C', 'choose C', 'choose D', 'choose C']\n"
     ]
    }
   ],
   "source": [
    "#MLS heuristic\n",
    "MLS_actions = []\n",
    "#calculate the max probability for each belief\n",
    "for b in belief_list:\n",
    "    M = np.max(b)\n",
    "    if M == b[0]:\n",
    "        MLS_actions.append(A[0])\n",
    "    elif M == b[1]:\n",
    "        MLS_actions.append(A[1])\n",
    "\n",
    "#AV heuristic is a vote between all states and the most voted action is executed.\n",
    "#Since we have 2 states it will be the same as MLS heuristic\n",
    "AV_actions = MLS_actions\n",
    "\n",
    "#Q-MDP heuristic\n",
    "QMDP_actions = []\n",
    "Qactions = [Qc, Qd, Qp]\n",
    "Pvector = []\n",
    "\n",
    "for b in belief_list:\n",
    "    #calculate the cost-to-go for each action\n",
    "    for Q in Qactions:\n",
    "        Pvector.append(np.dot(b, Q))\n",
    "    #chooce the action that minimizes the cost\n",
    "    m = np.min(Pvector)\n",
    "    if m == Pvector[0]:\n",
    "        QMDP_actions.append(A[0])\n",
    "    elif m == Pvector[1]:\n",
    "        QMDP_actions.append(A[1])\n",
    "    elif m == Pvector[2]:\n",
    "        QMDP_actions.append(A[2])\n",
    "    Pvector = []\n",
    "\n",
    "print(\"MLS heuristic:\", MLS_actions)\n",
    "print(\"AV heuristic:\", MLS_actions)\n",
    "print(\"Q-MDP heuristic:\", QMDP_actions)"
   ]
  },
  {
   "cell_type": "markdown",
   "metadata": {
    "deletable": true,
    "editable": true
   },
   "source": [
    "---\n",
    "\n",
    "#### Activity 6\n",
    "\n",
    "Suppose that the optimal cost-to-go function for the POMDP can be represented using the $\\alpha$-vectors\n",
    "\n",
    "$$\n",
    "\\left\\{\n",
    "\\begin{bmatrix}\n",
    "2.795\\\\\n",
    "3.795\n",
    "\\end{bmatrix},\n",
    "\\begin{bmatrix}\n",
    "3.795\\\\\n",
    "2.795\n",
    "\\end{bmatrix},\n",
    "\\begin{bmatrix}\n",
    "3.105\\\\\n",
    "3.105\n",
    "\\end{bmatrix}\\right\\}$$\n",
    "\n",
    "corresponding to the actions 'Guess clubs', 'Guess diamonds' and 'Peek', respectively. Represent the optimal cost-to-go function and compare the optimal policy with the MDP heuristics from Activity 5 in the beliefs computed in Activity 3.\n",
    "\n",
    "** Note: ** Don't forget to import `matplotlib`, and use the magic `%matplotlib notebook`.\n",
    "\n",
    "---"
   ]
  },
  {
   "cell_type": "code",
   "execution_count": 7,
   "metadata": {
    "collapsed": false,
    "deletable": true,
    "editable": true,
    "scrolled": false
   },
   "outputs": [
    {
     "data": {
      "image/png": "[encoded data removed]",
      "text/plain": [
       "<matplotlib.figure.Figure at 0x7fada0e6b978>"
      ]
     },
     "metadata": {},
     "output_type": "display_data"
    },
    {
     "data": {
      "image/png": "[encoded data removed]",
      "text/plain": [
       "<matplotlib.figure.Figure at 0x7fad979cef28>"
      ]
     },
     "metadata": {},
     "output_type": "display_data"
    },
    {
     "data": {
      "image/png": "[encoded data removed]",
      "text/plain": [
       "<matplotlib.figure.Figure at 0x7fad979e7780>"
      ]
     },
     "metadata": {},
     "output_type": "display_data"
    },
    {
     "data": {
      "image/png": "[encoded data removed]",
      "text/plain": [
       "<matplotlib.figure.Figure at 0x7fad978f60b8>"
      ]
     },
     "metadata": {},
     "output_type": "display_data"
    },
    {
     "name": "stdout",
     "output_type": "stream",
     "text": [
      "Pelos gráficos acima conclui-se que todas as acções para os beliefs calculados estão de acordo com a optimal policy dos alpha vectors, excepto para o belief inicial [0.5, 0.5] em que é escolhida a acção peek para os alpha vectors.\n"
     ]
    }
   ],
   "source": [
    "import matplotlib.pyplot as plt\n",
    "\n",
    "Vc = [2.795, 3.795]\n",
    "Vcx = [0, 1]\n",
    "Vcy = [2.795, 3.795]\n",
    "\n",
    "Vd = [3.795, 2.795]\n",
    "Vdx = [0, 1]\n",
    "Vdy = [3.795, 2.795]\n",
    "\n",
    "Vp = [3.105, 3.105]\n",
    "Vpx = [0, 1]\n",
    "Vpy = [3.105, 3.105]\n",
    "\n",
    "#define axis values\n",
    "plt.axis([0, 1, 2.6, 4])\n",
    "#draw each vector\n",
    "plt.plot(Vcx, Vcy, \"k-\", lw = 1, color = 'green')\n",
    "plt.plot(Vdx, Vdy, \"k-\", lw = 1, color = 'blue')\n",
    "plt.plot(Vpx, Vpy, \"k-\", lw = 1, color = 'orange')\n",
    "#draw each belief probability for Clubs\n",
    "for b in belief_list:\n",
    "    plt.scatter(b[0], 2.61)\n",
    "#define the plot\n",
    "plt.title(\"Value Interation Jk (alpha vectors)\")\n",
    "plt.xlabel(\"Probability p=P[x=C]\")\n",
    "plt.ylabel(\"Jpi(belief)\")\n",
    "plt.show()\n",
    "\n",
    "#MLS Heuristic\n",
    "#define axis y values into actions\n",
    "y = np.arange(3)\n",
    "plt.yticks(y, A)\n",
    "#draw each belief probability for Clubs\n",
    "i = 0\n",
    "for b in belief_list:\n",
    "    if MLS_actions[i] == A[0]:\n",
    "        plt.scatter(b[0], 0)\n",
    "    elif MLS_actions[i] == A[1]:\n",
    "        plt.scatter(b[0], 1)\n",
    "    elif MLS_actions[i] == A[2]:\n",
    "        plt.scatter(b[0], 2)\n",
    "    i += 1\n",
    "        \n",
    "#define the plot\n",
    "plt.title(\"MLS Heuristic\")\n",
    "plt.xlabel(\"Probability p=P[x=C]\")\n",
    "plt.ylabel(\"Action\")\n",
    "plt.show()\n",
    "\n",
    "#AV Heuristic\n",
    "#define axis y values into actions\n",
    "plt.yticks(y, A)\n",
    "#draw each belief probability for Clubs\n",
    "i = 0\n",
    "for b in belief_list:\n",
    "    if AV_actions[i] == A[0]:\n",
    "        plt.scatter(b[0], 0)\n",
    "    elif AV_actions[i] == A[1]:\n",
    "        plt.scatter(b[0], 1)\n",
    "    elif AV_actions[i] == A[2]:\n",
    "        plt.scatter(b[0], 2)\n",
    "    i += 1\n",
    "        \n",
    "#define the plot\n",
    "plt.title(\"AV Heuristic\")\n",
    "plt.xlabel(\"Probability p=P[x=C]\")\n",
    "plt.ylabel(\"Action\")\n",
    "plt.show()\n",
    "\n",
    "#Q-MDP Heuristic\n",
    "#define axis y values into actions\n",
    "plt.yticks(y, A)\n",
    "#draw each belief probability for Clubs\n",
    "i = 0\n",
    "for b in belief_list:\n",
    "    if QMDP_actions[i] == A[0]:\n",
    "        plt.scatter(b[0], 0)\n",
    "    elif QMDP_actions[i] == A[1]:\n",
    "        plt.scatter(b[0], 1)\n",
    "    elif QMDP_actions[i] == A[2]:\n",
    "        plt.scatter(b[0], 2)\n",
    "    i += 1\n",
    "        \n",
    "#define the plot\n",
    "plt.title(\"Q-MDP Heuristic\")\n",
    "plt.xlabel(\"Probability p=P[x=C]\")\n",
    "plt.ylabel(\"Action\")\n",
    "plt.show()\n",
    "\n",
    "print(\"Pelos gráficos acima conclui-se que todas as acções para os beliefs calculados estão de acordo com a \"\\\n",
    "      \"optimal policy dos alpha vectors, excepto para o belief inicial [0.5, 0.5] em que é escolhida a acção peek \"\\\n",
    "      \"para os alpha vectors.\")"
   ]
  },
  {
   "cell_type": "code",
   "execution_count": null,
   "metadata": {
    "collapsed": true
   },
   "outputs": [],
   "source": []
  }
 ],
 "metadata": {
  "celltoolbar": "Raw Cell Format",
  "kernelspec": {
   "display_name": "Python 3",
   "language": "python",
   "name": "python3"
  },
  "language_info": {
   "codemirror_mode": {
    "name": "ipython",
    "version": 3
   },
   "file_extension": ".py",
   "mimetype": "text/x-python",
   "name": "python",
   "nbconvert_exporter": "python",
   "pygments_lexer": "ipython3",
   "version": "3.5.2"
  }
 },
 "nbformat": 4,
 "nbformat_minor": 0
}
