{
 "cells": [
  {
   "cell_type": "markdown",
   "metadata": {
    "deletable": true,
    "editable": true
   },
   "source": [
    "# Learning and Decision Making"
   ]
  },
  {
   "cell_type": "markdown",
   "metadata": {
    "deletable": true,
    "editable": true
   },
   "source": [
    "## Laboratory 3: Markov decision problems\n",
    "\n",
    "In the end of the lab, you should submit all code/answers written in the tasks marked as \"Activity n. XXX\", together with the corresponding outputs and any replies to specific questions posed to the e-mail <adi.tecnico@gmail.com>. Make sure that the subject is of the form [&lt;group n.&gt;] LAB &lt;lab n.&gt;.\n",
    "\n",
    "### 1. Modeling\n",
    "\n",
    "Consider once again the predator-prey domain described in the Homework and which you described as a Markov decision process.\n",
    "\n",
    "<img src=\"toroidal-world.png\" width=\"400px\">\n",
    "\n",
    "Recall that:\n",
    "\n",
    "* toroidal world \"wraps around\", i.e., an individual exiting through any of the four sides of the grid reenters on the opposite side (see figure above).\n",
    "\n",
    "* At each time step, the hare selects uniformly at random one of the four directions (up, down, left, and right) and moves to the adjacent cell in that direction with a probability 0.4. With a probability 0.6 it remains in the same cell. \n",
    "\n",
    "* The wolf, on the other hand, can select at each time step one of five actions---up (_U_), down (_D_), left (_L_) and right (_R_) or stay (_S_). If it selects action _S_, it remains in the same cell with probability 1.0. Otherwise, the other 4 actions succeed in moving the wolf to the adjacent cell in the corresponding direction with a probability 0.8 and fail with a probability 0.2. \n",
    "\n",
    "* The goal of the wolf is to catch the hare."
   ]
  },
  {
   "cell_type": "markdown",
   "metadata": {
    "deletable": true,
    "editable": true
   },
   "source": [
    "---\n",
    "\n",
    "#### Activity 1.        \n",
    "\n",
    "Implement your Markov decision process in Python. In particular,\n",
    "\n",
    "* Create a list with all the states;\n",
    "* Create a list with all the actions;\n",
    "* For each action, define a `numpy` array with the corresponding transition probabilities;\n",
    "* Define a `numpy`array with the costs\n",
    "\n",
    "The order for the states and actions used in the transition probability and cost matrices should match that in the lists of states and actions. \n",
    "\n",
    "**Note 1**: Don't forget to import `numpy`.\n",
    "\n",
    "**Note 2**: You can define the transition probability matrices for each of the two individuals and then build the combined transition probability matrices using the `numpy.kron` function.\n",
    "\n",
    "---"
   ]
  },
  {
   "cell_type": "code",
   "execution_count": 1,
   "metadata": {
    "collapsed": false,
    "deletable": true,
    "editable": true,
    "scrolled": false
   },
   "outputs": [],
   "source": [
    "import numpy as np\n",
    "X = [(1,1), (1,2), (1,3), (1,4), (2,1), (2,2), (2,3), (2,4),\\\n",
    "     (3,1), (3,2), (3,3), (3,4), (4,1), (4,2), (4,3), (4,4)]\n",
    "A = ['Up', 'Down', 'Left', 'Right', 'Stay']\n",
    "#prob transições da lebre\n",
    "ph = np.array([[0.6, 0.2, 0.2, 0],\\\n",
    "               [0.2, 0.6, 0, 0.2],\\\n",
    "               [0.2, 0, 0.6, 0.2],\\\n",
    "               [0, 0.2, 0.2, 0.6]])\n",
    "#prob transições do lobo por acção\n",
    "#stay\n",
    "pwS = np.eye(4)\n",
    "#up and down are identical\n",
    "pwU = np.array([[0.2, 0, 0.8, 0], [0, 0.2, 0, 0.8], [0.8, 0, 0.2, 0], [0, 0.8, 0, 0.2]])\n",
    "pwD = pwU\n",
    "#left and right are identical\n",
    "pwL = np.array([[0.2, 0.8, 0, 0], [0.8, 0.2, 0, 0], [0, 0, 0.2, 0.8], [0, 0, 0.8, 0.2]])\n",
    "pwR = pwL\n",
    "\n",
    "pUD = np.kron(pwU, ph)\n",
    "pLR = np.kron(pwL,ph)\n",
    "pS = np.kron(pwS, ph)\n",
    "\n",
    "#função de custo\n",
    "c = np.array([[1, 1, 1, 1, 0],[0.5, 0.5, 0.5, 0.5, 0.5],[0.5, 0.5, 0.5, 0.5, 0.5],[0.5, 0.5, 0.5, 0.5, 0.5],\\\n",
    "              [0.5, 0.5, 0.5, 0.5, 0.5],[1, 1, 1, 1, 0],[0.5, 0.5, 0.5, 0.5, 0.5],[0.5, 0.5, 0.5, 0.5, 0.5],\\\n",
    "              [0.5, 0.5, 0.5, 0.5, 0.5],[0.5, 0.5, 0.5, 0.5, 0.5],[1, 1, 1, 1, 0],[0.5, 0.5, 0.5, 0.5, 0.5],\\\n",
    "              [0.5, 0.5, 0.5, 0.5, 0.5],[0.5, 0.5, 0.5, 0.5, 0.5],[0.5, 0.5, 0.5, 0.5, 0.5],[1, 1, 1, 1, 0]])"
   ]
  },
  {
   "cell_type": "markdown",
   "metadata": {
    "deletable": true,
    "editable": true
   },
   "source": [
    "### 2. Prediction\n",
    "\n",
    "You are now going to evaluate a given policy, computing the corresponding cost-to-go."
   ]
  },
  {
   "cell_type": "markdown",
   "metadata": {
    "deletable": true,
    "editable": true,
    "raw_mimetype": "text/latex"
   },
   "source": [
    "---\n",
    "\n",
    "#### Activity 2.\n",
    "\n",
    "Describe the policy that, in each state $(w, h)$, always moves the wolf to the cell closest to the hare. If multiple such cells exist, the wolf should select randomly between the two.\n",
    "\n",
    "For example, suppose that the wolf is in cell 1 and the hare in cell 4 (figure above, left). The wolf should then select randomly between the actions _U_, _D_ (which move the wolf to cell 3), _L_ and _R_ (which move the wolf to cell 2). Conversely, if the wolf is in cell 1 and the hare in cell 3 (figure above, right), the wolf should select randomly between the two actions _U_ and _D_ (which move the wolf to cell 3).\n",
    "\n",
    "**Note:** The policy should be described as a vector with as many rows as there are states and as many columns as there are actions, where the entry _xa_ has the probability of selecting action _a_ in state _x_.\n",
    "\n",
    "---"
   ]
  },
  {
   "cell_type": "code",
   "execution_count": 9,
   "metadata": {
    "collapsed": false,
    "deletable": true,
    "editable": true
   },
   "outputs": [],
   "source": [
    "policy = np.array([[0, 0, 0, 0, 1],\\\n",
    "                  [0, 0, 0.5, 0.5, 0],\\\n",
    "                  [0.5, 0.5, 0, 0, 0],\\\n",
    "                  [0.25, 0.25, 0.25, 0.25, 0],\\\n",
    "                  [0, 0, 0.5, 0.5, 0],\\\n",
    "                  [0, 0, 0, 0, 1],\\\n",
    "                  [0.25, 0.25, 0.25, 0.25, 0],\n",
    "                  [0.5, 0.5, 0, 0, 0],\\\n",
    "                  [0.5, 0.5, 0, 0, 0],\\\n",
    "                  [0.25, 0.25, 0.25, 0.25, 0],\\\n",
    "                  [0, 0, 0, 0, 1],\\\n",
    "                  [0, 0, 0.5, 0.5, 0],\\\n",
    "                  [0.25, 0.25, 0.25, 0.25, 0],\\\n",
    "                  [0.5, 0.5, 0, 0, 0],\\\n",
    "                  [0, 0, 0.5, 0.5, 0],\\\n",
    "                  [0, 0, 0, 0, 1]])"
   ]
  },
  {
   "cell_type": "markdown",
   "metadata": {
    "deletable": true,
    "editable": true
   },
   "source": [
    "---\n",
    "\n",
    "#### Activity 3.\n",
    "\n",
    "Compute the cost-to-go function $J^\\pi$ associated with the policy from Activity 2. Use $\\gamma=0.99$.\n",
    "\n",
    "---"
   ]
  },
  {
   "cell_type": "code",
   "execution_count": 26,
   "metadata": {
    "collapsed": false,
    "deletable": true,
    "editable": true
   },
   "outputs": [
    {
     "name": "stdout",
     "output_type": "stream",
     "text": [
      "[[ 21.94420946]\n",
      " [ 22.49835617]\n",
      " [ 22.49835617]\n",
      " [ 22.75740376]\n",
      " [ 22.49835617]\n",
      " [ 21.94420946]\n",
      " [ 22.75740376]\n",
      " [ 22.49835617]\n",
      " [ 22.49835617]\n",
      " [ 22.75740376]\n",
      " [ 21.94420946]\n",
      " [ 22.49835617]\n",
      " [ 22.75740376]\n",
      " [ 22.49835617]\n",
      " [ 22.49835617]\n",
      " [ 21.94420946]]\n"
     ]
    }
   ],
   "source": [
    "gamma = 0.99\n",
    "i = np.identity(16)\n",
    "cpi = (policy * c).sum(axis=1)\n",
    "#cpi = np.ndarray.sum(multiply, axis=1)\n",
    "ppi = np.diag(policy[:, 0]).dot(pUD) + np.diag(policy[:, 1]).dot(pUD) + np.diag(policy[:, 2]).dot(pLR)\\\n",
    "    + np.diag(policy[:, 3]).dot(pLR) + np.diag(policy[:, 4]).dot(pS)\n",
    "J = np.linalg.inv(np.subtract(np.eye(16), np.multiply(gamma, ppi))).dot(cpi)\n",
    "print(np.reshape(J, (16, 1)))"
   ]
  },
  {
   "cell_type": "markdown",
   "metadata": {
    "deletable": true,
    "editable": true
   },
   "source": [
    "###### 3. Control\n",
    "\n",
    "In this section you are going to compare value and policy iteration, both in terms of time and number of iterations."
   ]
  },
  {
   "cell_type": "markdown",
   "metadata": {
    "deletable": true,
    "editable": true
   },
   "source": [
    "---\n",
    "\n",
    "#### Activity 4\n",
    "\n",
    "Show that the policy in Activity 3 is optimal: use value iteration to compute $J^*$ and show that $J^*=J^\\pi$. Track the time and the number of iterations taken to compute $J^*$.\n",
    "\n",
    "**Note 1:** Stop the algorithm when the error between iterations is smaller than $10^{-8}$.\n",
    "\n",
    "**Note 2:** You may find useful the function ``time()`` from the module ``time``.\n",
    "\n",
    "---"
   ]
  },
  {
   "cell_type": "code",
   "execution_count": 13,
   "metadata": {
    "collapsed": false,
    "deletable": true,
    "editable": true,
    "scrolled": false
   },
   "outputs": [
    {
     "name": "stdout",
     "output_type": "stream",
     "text": [
      "[[ 21.94420922]\n",
      " [ 22.49835592]\n",
      " [ 22.49835592]\n",
      " [ 22.75740352]\n",
      " [ 22.49835592]\n",
      " [ 21.94420922]\n",
      " [ 22.75740352]\n",
      " [ 22.49835592]\n",
      " [ 22.49835592]\n",
      " [ 22.75740352]\n",
      " [ 21.94420922]\n",
      " [ 22.49835592]\n",
      " [ 22.75740352]\n",
      " [ 22.49835592]\n",
      " [ 22.49835592]\n",
      " [ 21.94420922]]\n",
      "O programa executou 1823 iterações\n",
      "O programa executou-se em 0.3598349094390869 segundos\n"
     ]
    }
   ],
   "source": [
    "import time\n",
    "J = np.zeros((16,1))\n",
    "err = 1\n",
    "i = 0\n",
    "cost_up = np.reshape(c[:, 0], (16, 1))\n",
    "cost_left = np.reshape(c[:, 2], (16,1))\n",
    "cost_stay = np.reshape(c[:, 4], (16,1))\n",
    "t = time.time()\n",
    "while err > 1e-8:\n",
    "    QUD = cost_up + gamma * pUD.dot(J)\n",
    "    QLR = cost_left + gamma * pLR.dot(J)\n",
    "    QS = cost_stay + gamma * pS.dot(J)\n",
    "    \n",
    "    Jnew = np.min((QUD, QLR, QS), axis=0)\n",
    "    err = np.linalg.norm(Jnew - J)\n",
    "    i += 1\n",
    "    J = Jnew\n",
    "    \n",
    "t1 = time.time()\n",
    "total = t1-t\n",
    "print(J)\n",
    "print(\"O programa executou\", i ,\"iterações\")\n",
    "print (\"O programa executou-se em\", total, \"segundos\")"
   ]
  },
  {
   "cell_type": "markdown",
   "metadata": {
    "deletable": true,
    "editable": true
   },
   "source": [
    "---\n",
    "\n",
    "#### Activity 5\n",
    "\n",
    "Compute once again the optimal policy now using policy iteration. Track the time and number of iterations taken and compare to those of Activity 4.\n",
    "\n",
    "**Note:** If you find that numerical errors affect your computations (especially when comparing two values/arrays) you may use the `numpy` function `isclose` with adequately set absolute and relative tolerance parameters (e.g., $10^{-8}$).\n",
    "\n",
    "---"
   ]
  },
  {
   "cell_type": "code",
   "execution_count": 19,
   "metadata": {
    "collapsed": false,
    "deletable": true,
    "editable": true,
    "scrolled": false
   },
   "outputs": [
    {
     "name": "stdout",
     "output_type": "stream",
     "text": [
      "[[ 0.    0.    0.    0.    1.  ]\n",
      " [ 0.    0.    0.5   0.5   0.  ]\n",
      " [ 0.5   0.5   0.    0.    0.  ]\n",
      " [ 0.25  0.25  0.25  0.25  0.  ]\n",
      " [ 0.    0.    0.5   0.5   0.  ]\n",
      " [ 0.    0.    0.    0.    1.  ]\n",
      " [ 0.25  0.25  0.25  0.25  0.  ]\n",
      " [ 0.5   0.5   0.    0.    0.  ]\n",
      " [ 0.5   0.5   0.    0.    0.  ]\n",
      " [ 0.25  0.25  0.25  0.25  0.  ]\n",
      " [ 0.    0.    0.    0.    1.  ]\n",
      " [ 0.    0.    0.5   0.5   0.  ]\n",
      " [ 0.25  0.25  0.25  0.25  0.  ]\n",
      " [ 0.5   0.5   0.    0.    0.  ]\n",
      " [ 0.    0.    0.5   0.5   0.  ]\n",
      " [ 0.    0.    0.    0.    1.  ]]\n",
      "O programa executou 2 iterações\n",
      "O programa executou-se em 0.009163379669189453 segundos\n",
      "Conclui-se assim que com policy iteration o número de iterações e o tempo de execução do programa diminui drasticamente\n"
     ]
    }
   ],
   "source": [
    "pi = np.ones((16,1)) / 2\n",
    "quit = False\n",
    "i = 0\n",
    "t = time.time()\n",
    "\n",
    "while not quit:\n",
    "    pinew= np.zeros((16,5))\n",
    "    pinew[:, 0, None] = np.isclose(QUD, np.min((QUD, QLR, QS), axis=0), atol=1e-8, rtol = 1e-8).astype(int)\n",
    "    pinew[:, 1, None] = np.isclose(QUD, np.min((QUD, QLR, QS), axis=0), atol=1e-8, rtol = 1e-8).astype(int)\n",
    "    pinew[:, 2, None] = np.isclose(QLR, np.min((QUD, QLR, QS), axis=0), atol=1e-8, rtol = 1e-8).astype(int)\n",
    "    pinew[:, 3, None] = np.isclose(QLR, np.min((QUD, QLR, QS), axis=0), atol=1e-8, rtol = 1e-8).astype(int)\n",
    "    pinew[:, 4, None] = np.isclose(QS, np.min((QUD, QLR, QS), axis=0), atol=1e-8, rtol = 1e-8).astype(int)\n",
    "        \n",
    "    pinew = pinew / np.sum(pinew, axis = 1, keepdims = True)\n",
    "    \n",
    "    quit = (pi == pinew).all()\n",
    "    pi = pinew\n",
    "    i += 1\n",
    "\n",
    "t1 = time.time()\n",
    "total = t1 - t\n",
    "print(pi)\n",
    "print(\"O programa executou\", i, \"iterações\")\n",
    "print(\"O programa executou-se em\", total, \"segundos\")\n",
    "print(\"Conclui-se assim que com policy iteration o número \"\\\n",
    "      \"de iterações e o tempo de execução do programa diminui drasticamente\")"
   ]
  },
  {
   "cell_type": "markdown",
   "metadata": {
    "deletable": true,
    "editable": true
   },
   "source": [
    "### 4. Simulation\n",
    "\n",
    "Finally, in this section you will check whether the theoretical computations of the cost-to-go actually correspond to the cost incurred by an agent following a policy."
   ]
  },
  {
   "cell_type": "markdown",
   "metadata": {
    "deletable": true,
    "editable": true
   },
   "source": [
    "---\n",
    "\n",
    "#### Activity 6\n",
    "\n",
    "Starting in each of the two states $x$ in the initial figure, \n",
    "\n",
    "* Generate **100** trajectories of 10,000 steps each, following the optimal policy for the MDP. \n",
    "* For each trajectory, compute the accumulated (discounted) cost. \n",
    "* Compute the average cost over the 100 trajectories.\n",
    "* Compare the resulting value with that computed in Activity 4 for the two states. \n",
    "\n",
    "** Note:** The simulation may take a bit of time, don't despair ☺️.\n",
    "\n",
    "---"
   ]
  },
  {
   "cell_type": "code",
   "execution_count": 20,
   "metadata": {
    "collapsed": false,
    "deletable": true,
    "editable": true
   },
   "outputs": [
    {
     "name": "stdout",
     "output_type": "stream",
     "text": [
      "Para o estado 3 temos o seguinte custo:\n",
      "0.0\n",
      "Para o estado 2 temos o seguinte custo:\n",
      "0.0\n",
      "Conclui-se que os valores experimentais e os valores esperados são idênticos\n"
     ]
    }
   ],
   "source": [
    "from numpy import random as rand\n",
    "\n",
    "p = {0: pUD, 1: pUD, 2: pLR, 3: pLR, 4:pS}\n",
    "problem_states = [3, 2]\n",
    "costs = []\n",
    "trajectory = []\n",
    "trajectories = 0\n",
    "X = np.arange(0, 16)\n",
    "A = np.arange(0, 5)\n",
    "for x in problem_states:\n",
    "    costs = []\n",
    "    trajectories = 0\n",
    "    while trajectories < 100:\n",
    "        cost = 0\n",
    "        step = 1\n",
    "        state = x\n",
    "        gamma = 1\n",
    "        while step < 10000:\n",
    "            nextA = rand.choice(A, 1, p = pi[state])[0]\n",
    "            prob = p[nextA]\n",
    "            cost += c[state][nextA] * gamma\n",
    "            gamma *= 0.99\n",
    "            nextstate = rand.choice(X, 1, p = prob[state])\n",
    "            state = nextstate[0]\n",
    "            step += 1\n",
    "        costs.append(cost)\n",
    "        trajectories += 1\n",
    "    print(\"Para o estado\", x, \"temos o seguinte custo:\")\n",
    "    print(np.sum(costs)/100)\n",
    "print(\"Conclui-se que os valores experimentais e os valores esperados são idênticos\")"
   ]
  },
  {
   "cell_type": "code",
   "execution_count": null,
   "metadata": {
    "collapsed": true,
    "deletable": true,
    "editable": true
   },
   "outputs": [],
   "source": []
  }
 ],
 "metadata": {
  "celltoolbar": "Raw Cell Format",
  "kernelspec": {
   "display_name": "Python 3",
   "language": "python",
   "name": "python3"
  },
  "language_info": {
   "codemirror_mode": {
    "name": "ipython",
    "version": 3
   },
   "file_extension": ".py",
   "mimetype": "text/x-python",
   "name": "python",
   "nbconvert_exporter": "python",
   "pygments_lexer": "ipython3",
   "version": "3.5.2"
  }
 },
 "nbformat": 4,
 "nbformat_minor": 0
}
